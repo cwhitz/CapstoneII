{
 "cells": [
  {
   "cell_type": "markdown",
   "metadata": {},
   "source": [
    "# Prediction of Involvement of Drunk Drivers in Fatal Highway Crashes\n",
    "## Machine Learning\n",
    "\n",
    "### Chester Hitz | Springboard Data Science Career Track | Capstone II"
   ]
  },
  {
   "cell_type": "markdown",
   "metadata": {},
   "source": [
    "Following a pivot from my original capstone idea, I am trying to identify the involvement of at least one drunk driver in a fatal car crash using the extensive dataset from the Fatality Analysis Reporting System. This is a massive dataset, but I am trying to predict based on a limited number of variables, namely:\n",
    "\n",
    "* Timing: Time of day and day of week.\n",
    "* Crash events: Crash events: Contained within the three CF (crash factor), five PCRASH (precrash) and MANCOL (manner of collision) variables is a collection of categorical variables that describe events in every crash, with category describing a different event. \n",
    "* Various other factors: Involvement of speeding and road type.\n",
    "\n",
    "Various insights about the data can be read about in the [EDA portion](https://github.com/cwhitz/Springboard-Capstone-1/blob/master/Accidents%20EDA.ipynb) of this capstone. The aim of this portion is to select, tune, and test the best machine learning algorithm to attain the most accurate predictions of the target variable, DRUNK_INV, which indicates the involvement of at least one drunk driver.\n",
    "\n",
    "To start, I import the standard libraries plus some sklearn libraries for preprocessing and metrics."
   ]
  },
  {
   "cell_type": "code",
   "execution_count": 1,
   "metadata": {
    "scrolled": false
   },
   "outputs": [
    {
     "name": "stdout",
     "output_type": "stream",
     "text": [
      "(224992, 24)\n",
      "<class 'pandas.core.frame.DataFrame'>\n",
      "RangeIndex: 224992 entries, 0 to 224991\n",
      "Data columns (total 24 columns):\n",
      "Unnamed: 0        224992 non-null int64\n",
      "index             224992 non-null int64\n",
      "DRUNK_INV         224992 non-null bool\n",
      "HOUR              224992 non-null int64\n",
      "DAY_WEEK          224992 non-null int64\n",
      "LGT_COND          224992 non-null int64\n",
      "CF1               224992 non-null int64\n",
      "CF2               224992 non-null int64\n",
      "CF3               224992 non-null int64\n",
      "P_CRASH1          224992 non-null int64\n",
      "P_CRASH2          224992 non-null int64\n",
      "P_CRASH3          224992 non-null int64\n",
      "PCRASH4           224992 non-null int64\n",
      "PCRASH5           224992 non-null int64\n",
      "MAN_COLL          224992 non-null int64\n",
      "VSPD_LIM          215483 non-null float64\n",
      "TRAV_SP           83159 non-null float64\n",
      "FATALS            224992 non-null int64\n",
      "ROUTE             224992 non-null int64\n",
      "PERMVIT           224992 non-null float64\n",
      "corrected_HOUR    224992 non-null int64\n",
      "Weekend           224992 non-null int64\n",
      "OverSpeedLimit    81918 non-null float64\n",
      "road_type         224992 non-null object\n",
      "dtypes: bool(1), float64(4), int64(18), object(1)\n",
      "memory usage: 39.7+ MB\n",
      "None\n"
     ]
    }
   ],
   "source": [
    "import numpy as np\n",
    "import pandas as pd\n",
    "import matplotlib.pyplot as plt\n",
    "import seaborn as sns\n",
    "sns.set()\n",
    "%matplotlib inline\n",
    "\n",
    "# general sklearn tools for preprocessing and metrics\n",
    "from sklearn.preprocessing import OneHotEncoder, LabelEncoder\n",
    "from sklearn.model_selection import train_test_split, cross_val_score, GridSearchCV\n",
    "from sklearn.metrics import accuracy_score, confusion_matrix, mean_squared_error, r2_score\n",
    "\n",
    "# data import\n",
    "df = pd.read_csv('Accidents_ML.csv')\n",
    "\n",
    "# validate data load\n",
    "print(df.shape)\n",
    "print(df.info())"
   ]
  },
  {
   "cell_type": "markdown",
   "metadata": {},
   "source": [
    "## Data Preprocessing\n",
    "The first task is to make the many categorical variables in the dataset more expressive and machine-readable. Currently the variables are encoded with integers, each representing a different category of something. However, those integers are merely symbolic and have no linear nor ordinal relationship to one and other. Therefore, it is easier for sklearn's models to read the categories when the categories are fleshed out to new columns with binary values, showing whether that particular record is in a certain category (represented by a 1) or not (0). This ends up creating *n* columns, where *n* is the total number of unique categories in the column. \n",
    "\n",
    "Below, nine categorical columns are transformed into binary representation via the use of sklearn's OneHotEncoder()."
   ]
  },
  {
   "cell_type": "code",
   "execution_count": 2,
   "metadata": {},
   "outputs": [
    {
     "data": {
      "text/plain": [
       "'n columns added to dataframe: 177'"
      ]
     },
     "execution_count": 2,
     "metadata": {},
     "output_type": "execute_result"
    }
   ],
   "source": [
    "cat_features = ['CF1','CF2','CF3','P_CRASH1','P_CRASH2','P_CRASH3','PCRASH4','PCRASH5', 'ROUTE','MAN_COLL']\n",
    "df.drop(['road_type','Unnamed: 0','index','HOUR'], axis=1, inplace=True)\n",
    "\n",
    "n_cols=df.shape[1]\n",
    "\n",
    "enc = OneHotEncoder(sparse=False)\n",
    "\n",
    "# this code block loops through the specified categorical features in the dataframe and performs\n",
    "# an OHE transformation on them, then concats them back to the dataframe\n",
    "for feature in cat_features:\n",
    "    mtx = df[feature].values.reshape(len(df), 1)\n",
    "    mtx = enc.fit_transform(mtx)\n",
    "    \n",
    "    c_names= [feature+'_'+str(enc.active_features_[x]) for x in range(mtx.shape[1])]\n",
    "    mtx_df = pd.DataFrame(mtx, index=df.index, columns=c_names)\n",
    "    df = df.drop(feature, axis=1)\n",
    "    df = pd.concat([df, mtx_df], axis=1)\n",
    "    \n",
    "'n columns added to dataframe: ' + str(df.shape[1] - n_cols)"
   ]
  },
  {
   "cell_type": "markdown",
   "metadata": {},
   "source": [
    "Note that the column names have the integer keys they represent preserved via code on line 14. \n",
    "\n",
    "The next step is to try some different models on the data, but first I split the data into training and test groups."
   ]
  },
  {
   "cell_type": "code",
   "execution_count": 3,
   "metadata": {
    "collapsed": true
   },
   "outputs": [],
   "source": [
    "# split off the target array from the data, then split train/test data at customary 80-20 ratio\n",
    "y = df['DRUNK_INV']\n",
    "X = df.drop(['DRUNK_INV','VSPD_LIM','TRAV_SP','OverSpeedLimit'], axis=1)\n",
    "\n",
    "X_train, X_test, y_train, y_test = train_test_split(X, y, random_state=32, train_size=.8, test_size=.2)"
   ]
  },
  {
   "cell_type": "markdown",
   "metadata": {},
   "source": [
    "## Logistic Regression\n",
    "\n",
    "The first model type to examine is Logisitic Regression, which is the classification variant of linear regression and compares output values against a threshold. I will start by defining a common model testing and scoring function, then pass a LogisticRegressor estimator object to it."
   ]
  },
  {
   "cell_type": "code",
   "execution_count": 4,
   "metadata": {},
   "outputs": [
    {
     "name": "stdout",
     "output_type": "stream",
     "text": [
      "Accuracy | Training :  0.758357269449\n",
      "Accuracy | Test     :  0.761239138648\n"
     ]
    }
   ],
   "source": [
    "from sklearn.linear_model import LogisticRegression\n",
    "\n",
    "def common_pipeline(model, model_return=False):\n",
    "    m = model.fit(X_train, y_train)\n",
    "    train_accuracy = m.score(X_train, y_train)\n",
    "    test_accuracy = m.score(X_test, y_test)\n",
    "\n",
    "    print(\"Accuracy | Training : \", accuracy_score(y_train, m.predict(X_train)))\n",
    "    print(\"Accuracy | Test     : \", accuracy_score(y_test, m.predict(X_test)))\n",
    "\n",
    "    if model_return:\n",
    "        return m\n",
    "\n",
    "lgr = common_pipeline(LogisticRegression(), model_return=True)"
   ]
  },
  {
   "cell_type": "markdown",
   "metadata": {},
   "source": [
    "As the test and training scores are roughly equal, it looks like there may be a bit of underfitting. Increasing the *C* parameter, which determines the strength of regularization in the data, may be a solution to this. To test, I run a GridSearchCV function to test five different values of C."
   ]
  },
  {
   "cell_type": "code",
   "execution_count": 5,
   "metadata": {},
   "outputs": [
    {
     "name": "stdout",
     "output_type": "stream",
     "text": [
      "Best Score : 0.758560304366\n",
      "Best parameters : {'C': 0.1}\n"
     ]
    }
   ],
   "source": [
    "from sklearn.model_selection import GridSearchCV\n",
    "\n",
    "param_grid = {'C':[.01,.1,1,10,100]}\n",
    "\n",
    "grid= GridSearchCV(LogisticRegression(), param_grid, cv=5)\n",
    "\n",
    "grid.fit(X,y)\n",
    "\n",
    "print(\"Best Score :\", grid.best_score_)\n",
    "print(\"Best parameters :\", grid.best_params_)"
   ]
  },
  {
   "cell_type": "markdown",
   "metadata": {},
   "source": [
    "It turns out that the default value of C, 1, is actually the best for this model. Lower values of C correspond to a less complex model, while higher values of C are more complex. A value of 1 for C is right in the middle, so we can say our data benefits from a mildly complex model. Before moving on to testing the next type of model, let's look at a Confusion Matrix to see where the model is accurately and inaccurately predicting."
   ]
  },
  {
   "cell_type": "code",
   "execution_count": 6,
   "metadata": {
    "scrolled": false
   },
   "outputs": [
    {
     "data": {
      "image/png": "[encoded data removed]",
      "text/plain": [
       "<matplotlib.figure.Figure at 0x1a0fa28cf8>"
      ]
     },
     "metadata": {},
     "output_type": "display_data"
    }
   ],
   "source": [
    "lgr_predictions = lgr.predict(X_test)\n",
    "\n",
    "# I will be making a few confusion matrices, so it is good to create a function for them now\n",
    "def c_mtx_plot(correct, predictions):\n",
    "    c_mtx = confusion_matrix(correct, predictions)\n",
    "    sns.heatmap(c_mtx, square=True, annot=True, cbar=False, fmt='g', cmap='Blues')\n",
    "    plt.title('Confusion Matrix')\n",
    "    plt.xlabel('Predicted Value')\n",
    "    plt.ylabel('True Value')\n",
    "    \n",
    "c_mtx_plot(y_test, lgr_predictions)"
   ]
  },
  {
   "cell_type": "markdown",
   "metadata": {},
   "source": [
    "The model is predicting more false negatives (prediction: sober; reality: inebriated) than true positives, which is not good. However it is predicting most of the true negatives correctly. Given the sparseness of positive values in the target array, it makes sense that the model is struggling to identify when they are present."
   ]
  },
  {
   "cell_type": "markdown",
   "metadata": {},
   "source": [
    "## Linear SVC\n",
    "\n",
    "Another linear model to test is the Linear Support Vector Classifier (LinearSVC). LinearSVCs are similar to Logistic classifiers in the way they determine a decision boundary across multiple dimensions, but the method of determining that boundary is focused on maximizing the margin between the points closest to that boundary. The hyperparameter *C* softens that boundary and prevents overfitting of the data. Below I call an LinearSVC estimator instance, and then try several values for C outside the default using CVGridSearch."
   ]
  },
  {
   "cell_type": "code",
   "execution_count": 7,
   "metadata": {},
   "outputs": [
    {
     "name": "stdout",
     "output_type": "stream",
     "text": [
      "Accuracy | Training :  0.755179368087\n",
      "Accuracy | Test     :  0.757816840374\n"
     ]
    }
   ],
   "source": [
    "from sklearn.svm import LinearSVC\n",
    "\n",
    "common_pipeline(LinearSVC())"
   ]
  },
  {
   "cell_type": "code",
   "execution_count": 8,
   "metadata": {},
   "outputs": [
    {
     "name": "stdout",
     "output_type": "stream",
     "text": [
      "Best Score : 0.757089140947\n",
      "Best parameters : {'C': 0.1}\n"
     ]
    }
   ],
   "source": [
    "param_grid = {'C':[.01,.1,1,10,100]}\n",
    "\n",
    "grid= GridSearchCV(LinearSVC(), param_grid)\n",
    "\n",
    "grid.fit(X,y)\n",
    "\n",
    "print(\"Best Score :\", grid.best_score_)\n",
    "print(\"Best parameters :\", grid.best_params_)"
   ]
  },
  {
   "cell_type": "markdown",
   "metadata": {},
   "source": [
    "The baseline and GridSearchCV results are not very promising, so it seems that even with hyperparametric tuning that LinearSVC is not the right model for this data."
   ]
  },
  {
   "cell_type": "markdown",
   "metadata": {},
   "source": [
    "## Decision Tree and Random Forest Classifiers\n",
    "\n",
    "The next models to try are the decision tree classifiers, which build a \"tree\" of decision points and nodes representing final decisions. I start with simple DecisionTreeClassifier to determine a baseline for improvement."
   ]
  },
  {
   "cell_type": "code",
   "execution_count": 9,
   "metadata": {},
   "outputs": [
    {
     "name": "stdout",
     "output_type": "stream",
     "text": [
      "Accuracy | Training :  0.970065502547\n",
      "Accuracy | Test     :  0.74599435543\n"
     ]
    }
   ],
   "source": [
    "from sklearn.tree import DecisionTreeClassifier\n",
    "from sklearn.ensemble import RandomForestClassifier\n",
    "\n",
    "dtc = common_pipeline(DecisionTreeClassifier(random_state=42), model_return=True)"
   ]
  },
  {
   "cell_type": "code",
   "execution_count": 10,
   "metadata": {},
   "outputs": [
    {
     "data": {
      "image/png": "[encoded data removed]",
      "text/plain": [
       "<matplotlib.figure.Figure at 0x1a486660b8>"
      ]
     },
     "metadata": {},
     "output_type": "display_data"
    }
   ],
   "source": [
    "c_mtx_plot(y_test, dtc.predict(X_test))"
   ]
  },
  {
   "cell_type": "markdown",
   "metadata": {},
   "source": [
    "The decision tree seems to be overfitting to the training data, resulting in lower test accuracy relative to training accuracy. Using an ensemble method, RandomForestClassifier, might have a better accuracy rate than just building a single decision tree, as it builds an ensemble of trees based off various bootstrap subsets of the data, then finds the average between them. A RandomForestClassifier is trained below to establish a baseline, and it scores notably higher than any previous model."
   ]
  },
  {
   "cell_type": "code",
   "execution_count": 11,
   "metadata": {},
   "outputs": [
    {
     "name": "stdout",
     "output_type": "stream",
     "text": [
      "Accuracy | Training :  0.95585383876\n",
      "Accuracy | Test     :  0.773950532234\n"
     ]
    }
   ],
   "source": [
    "rfc = common_pipeline(RandomForestClassifier(random_state=42), model_return=True)"
   ]
  },
  {
   "cell_type": "markdown",
   "metadata": {},
   "source": [
    "Again, another small improvement but I overfitting could still be improved. To do this, I set up a grid search with two parameters - the mamimum depth of the decision trees in the forest (max_depth), and the number maximum number of features for used in each bootstrap (max_features). The current max_features is the square root of the number of features in the dataset. To prevent overfitting, I am going to try to tune that down."
   ]
  },
  {
   "cell_type": "code",
   "execution_count": 12,
   "metadata": {},
   "outputs": [
    {
     "name": "stdout",
     "output_type": "stream",
     "text": [
      "0.786147951927\n",
      "{'max_depth': 10, 'max_features': 0.5}\n",
      "Accuracy | Training :  0.795936508642\n",
      "Accuracy | Test     :  0.791173137181\n"
     ]
    }
   ],
   "source": [
    "param_grid = {'max_depth':np.arange(5,25,5),\n",
    "             'max_features':[None, 'sqrt', 'log2', .5]}\n",
    "\n",
    "grid= GridSearchCV(RandomForestClassifier(random_state=42), param_grid).fit(X, y)\n",
    "\n",
    "print(grid.best_score_)\n",
    "print(grid.best_params_)\n",
    "\n",
    "rfc_best = grid.best_estimator_\n",
    "\n",
    "common_pipeline(rfc_best)"
   ]
  },
  {
   "cell_type": "markdown",
   "metadata": {},
   "source": [
    "As we can see here, more improvement and less overfitting. The training and test scores are more balanced with a max depth of 20 and with half the features being considered. Both these are higher than a normal use case for random forest classifiers, but that makes sense given the nature of the dataset. \n",
    "\n",
    "One appreciable aspect of the decision tree classifier is how stunningly interpretable it is in context of this case, especially when it comes to the crash factors and pre-crash movements. As covered in the EDA section of my capstone, the pre-crash movement variables describe a story of a crash through categorical variables, where each of the five variables (P_CRASH1 - P_CRASH5) is a different step that led to the crash. Therefore branches of the decision tree may split at each action. For example, the decision tree learns that values like 1 in P_CRASH3, indicating that no avoidance maneuver was taken by the driver to avoid an accident, mean the driver was more likely to be impaired. "
   ]
  },
  {
   "cell_type": "code",
   "execution_count": 13,
   "metadata": {},
   "outputs": [
    {
     "data": {
      "text/plain": [
       "array([ 0.79206205,  0.7869286 ,  0.7842841 ,  0.79201298,  0.7813632 ])"
      ]
     },
     "execution_count": 13,
     "metadata": {},
     "output_type": "execute_result"
    }
   ],
   "source": [
    "cross_val_score(rfc_best, X, y, cv=5, scoring='accuracy')"
   ]
  },
  {
   "cell_type": "markdown",
   "metadata": {},
   "source": [
    "Examining the feature importances can provide insight into what features are most important in the decision tree ensemble. In this case, I reverse the processing done in my preprocessing step with OneHotEncoder to aggregate the feature importances of each categorical variable."
   ]
  },
  {
   "cell_type": "code",
   "execution_count": 14,
   "metadata": {},
   "outputs": [
    {
     "data": {
      "image/png": "[encoded data removed]",
      "text/plain": [
       "<matplotlib.figure.Figure at 0x1a101c4908>"
      ]
     },
     "metadata": {},
     "output_type": "display_data"
    }
   ],
   "source": [
    "# create series of top features, index set to those features\n",
    "rfc_top_features = pd.Series(rfc_best.feature_importances_, index=X_train.columns).sort_values()\n",
    "\n",
    "# create seperate series to aggregate\n",
    "rfc_top_features_agg = rfc_top_features.copy()\n",
    "\n",
    "# aggregate categorical features based on common column titles\n",
    "for cat in cat_features:\n",
    "    all_sub_features = rfc_top_features[[x for x in list(rfc_top_features.index) if cat in x]]\n",
    "    rfc_top_features_agg[cat] = np.sum(all_sub_features)\n",
    "    # drop subcategories\n",
    "    rfc_top_features_agg.drop(all_sub_features.index, axis=0, inplace=True)\n",
    "\n",
    "# sort values\n",
    "rfc_top_features_agg.sort_values(inplace=True)\n",
    "\n",
    "# plot values\n",
    "n_features = rfc_top_features_agg.shape[0]\n",
    "plt.barh(range(n_features), rfc_top_features_agg.values, align='center')\n",
    "plt.yticks(np.arange(n_features), rfc_top_features_agg.index)\n",
    "plt.xlabel(\"Feature Importance\")\n",
    "plt.ylabel(\"Feature\")\n",
    "plt.title(\"Aggregated Feature Importances in RFC\")\n",
    "plt.ylim(-1, n_features)\n",
    "plt.show()"
   ]
  },
  {
   "cell_type": "markdown",
   "metadata": {},
   "source": [
    "The feature importances in this case are not too different from the analysis of coefficients in a linear model. As expected from our EDA, corrected_HOUR (which refers to the number of hours since 7AM) and LGT_COND (Light conditions, closely correlated to HOUR) have the most decision power in the decision trees, but no one feature has the majority. \n",
    "\n",
    "Beyond that, aggregating the values for each subcategory of the categorical events lets us see how important each of those categories are as a whole, information that might otherwise be lost. We can see how Pre-Crash Event 2 - which identifies the attribute that best describes the critical event which made the crash imminent - is the most important of the categorical variables. We can use the non-aggregated series to see specifically which events are the most important. Let's look at the top ten subcategories within P_CRASH2 and information from the analytical manual."
   ]
  },
  {
   "cell_type": "code",
   "execution_count": 28,
   "metadata": {},
   "outputs": [
    {
     "data": {
      "image/png": "[encoded data removed]",
      "text/plain": [
       "<matplotlib.figure.Figure at 0x1a11327710>"
      ]
     },
     "metadata": {},
     "output_type": "display_data"
    }
   ],
   "source": [
    "top_6_PC2_features = rfc_top_features[[x for x in rfc_top_features.index if 'P_CRASH2' in x]].sort_values(ascending=False)[:6]\n",
    "top_6_PC2_features.sort_values(ascending=True, inplace=True)\n",
    "plt.barh(range(6), top_6_PC2_features.values, align='center')\n",
    "plt.yticks(np.arange(6), top_6_PC2_features.index)\n",
    "plt.xlabel(\"Feature Importance\")\n",
    "plt.ylabel(\"Feature\")\n",
    "plt.title(\"Aggregated Feature Importances in RFC\")\n",
    "plt.ylim(-1, 6)\n",
    "plt.show()"
   ]
  },
  {
   "cell_type": "markdown",
   "metadata": {},
   "source": [
    "The top five of these represent the following (keep in mind this can refer to any car in the crash, not just the inebriated driver):\n",
    "* 80: Pedestrian in roadway\n",
    "* 54: Vehicle travelling on wrong side of road\n",
    "* 83: Cyclist in roadway\n",
    "* 6: Travelling too fast for conditions\n",
    "* 13: Off the edge of the road on the right side.\n",
    "* 62: Vehicle travelling over left line from opposite direction.\n",
    "\n",
    "These all seem like actions that a drunk driver would either do or have trouble dealing with. It makes sense then that they are the some of the most important decision points in the forest classifier, and serves to highlight the interpretability of the decision tree in this case.\n",
    "\n",
    "### Gradient Boosting Classifiers\n",
    "\n",
    "If we take a look at the confusion matrix produced by the best RFC estimator, we can see that true positives are now exceeding false positives, which is excellent. "
   ]
  },
  {
   "cell_type": "code",
   "execution_count": 16,
   "metadata": {
    "scrolled": false
   },
   "outputs": [
    {
     "data": {
      "image/png": "[encoded data removed]",
      "text/plain": [
       "<matplotlib.figure.Figure at 0x1a101a88d0>"
      ]
     },
     "metadata": {},
     "output_type": "display_data"
    }
   ],
   "source": [
    "c_mtx_plot(y_test, rfc_best.predict(X_test))"
   ]
  },
  {
   "cell_type": "markdown",
   "metadata": {},
   "source": [
    "However, false positives are still higher than we'd like. In the interest of improving this further, I am going to try using a gradient boosting classifier, which like RandomForestClassifier is an ensemble of decision trees, but constructed differently. Trees for specific parts of the data are added in iteration to the model, creating a combination of many simple models. One important parameter of GBCs is the learning rate, which controls how strongly each tree tries to correct the mistakes of the trees added prior to it, allowing more complex models. Since I have already found this dataset benefits from a more complex model, I will first train and test a baseline model, then try three different values for learning rate, along with the previously identified best parameters."
   ]
  },
  {
   "cell_type": "code",
   "execution_count": 17,
   "metadata": {},
   "outputs": [
    {
     "name": "stdout",
     "output_type": "stream",
     "text": [
      "Accuracy | Training :  0.789552927058\n",
      "Accuracy | Test     :  0.79072868286\n"
     ]
    },
    {
     "data": {
      "image/png": "[encoded data removed]",
      "text/plain": [
       "<matplotlib.figure.Figure at 0x1a0fc0e828>"
      ]
     },
     "metadata": {},
     "output_type": "display_data"
    }
   ],
   "source": [
    "from sklearn.ensemble import GradientBoostingClassifier\n",
    "\n",
    "gbc = common_pipeline(GradientBoostingClassifier(random_state=42), model_return=True)\n",
    "c_mtx_plot(y_test, gbc.predict(X_test))"
   ]
  },
  {
   "cell_type": "code",
   "execution_count": 18,
   "metadata": {
    "collapsed": true
   },
   "outputs": [],
   "source": [
    "param_grid = {'learning_rate':[.1,.5,1]}\n",
    "\n",
    "grid= GridSearchCV(GradientBoostingClassifier(random_state=42, max_features=.5, max_depth=10), param_grid).fit(X, y)"
   ]
  },
  {
   "cell_type": "code",
   "execution_count": 19,
   "metadata": {},
   "outputs": [
    {
     "name": "stdout",
     "output_type": "stream",
     "text": [
      "0.788894716257\n",
      "{'learning_rate': 0.1}\n"
     ]
    }
   ],
   "source": [
    "print(grid.best_score_)\n",
    "print(grid.best_params_)\n",
    "\n",
    "gbc_best = grid.best_estimator_"
   ]
  },
  {
   "cell_type": "markdown",
   "metadata": {},
   "source": [
    "Finally, I will apply the best estimator pulled from grid serach and use it to predict the holdout set, along with a confusion matrix."
   ]
  },
  {
   "cell_type": "code",
   "execution_count": 20,
   "metadata": {},
   "outputs": [
    {
     "name": "stdout",
     "output_type": "stream",
     "text": [
      "Accuracy | Training :  0.822798664393\n",
      "Accuracy | Test     :  0.797684392987\n"
     ]
    },
    {
     "data": {
      "image/png": "[encoded data removed]",
      "text/plain": [
       "<matplotlib.figure.Figure at 0x1a0fc0e3c8>"
      ]
     },
     "metadata": {},
     "output_type": "display_data"
    }
   ],
   "source": [
    "gbc = common_pipeline(gbc_best)\n",
    "c_mtx_plot(y_test, gbc_best.predict(X_test))"
   ]
  },
  {
   "cell_type": "markdown",
   "metadata": {},
   "source": [
    "This Gradient Boosted Classifier loaded with the best parameters from GridSearchCV is performing the best of any estimator tested thus far. True positives finally are surpassing false positives by almost 1200 counts. \n",
    "\n",
    "## Conclusion\n",
    "\n",
    "What has been built and tuned here from my data is a classification estimator that can predict whether or not a driver was drunk in an accident based on the day of the week, time of day, the actions taken by the drivers, and the number of people involved in the crash. The accuracy of these predictions is just under 80%, which is not perfect, but can be used to guide investigations, public health decisions, and possibly civil safety engineering. "
   ]
  },
  {
   "cell_type": "code",
   "execution_count": null,
   "metadata": {
    "collapsed": true
   },
   "outputs": [],
   "source": []
  }
 ],
 "metadata": {
  "kernelspec": {
   "display_name": "Python 3",
   "language": "python",
   "name": "python3"
  },
  "language_info": {
   "codemirror_mode": {
    "name": "ipython",
    "version": 3
   },
   "file_extension": ".py",
   "mimetype": "text/x-python",
   "name": "python",
   "nbconvert_exporter": "python",
   "pygments_lexer": "ipython3",
   "version": "3.6.3"
  }
 },
 "nbformat": 4,
 "nbformat_minor": 2
}
