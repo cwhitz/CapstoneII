{
 "cells": [
  {
   "cell_type": "markdown",
   "metadata": {},
   "source": [
    "# Spatial Analysis and Prediction of Car Accidents\n",
    "## Inferential Statistics\n",
    "\n",
    "### Chester Hitz | Springboard Data Science Career Track | Capstone II\n",
    "\n",
    "--------------------------------------------------------------------------\n",
    "\n",
    "The goal of this unit of my second capstone project is to take the dataset I created in the previous step, which lists various features of 77k one-kilometer segments of the US interstate system, and attempt to understand their relationship to the target variable, the number of accidents that has occured on them between 2010 and 2017.\n",
    "\n",
    "The dataset is imported below and previewed, with columns listed."
   ]
  },
  {
   "cell_type": "code",
   "execution_count": 1,
   "metadata": {
    "collapsed": true
   },
   "outputs": [],
   "source": [
    "import pandas as pd\n",
    "import numpy as np\n",
    "import matplotlib.pyplot as plt\n",
    "import seaborn as sns\n",
    "plt.style.use('ggplot')"
   ]
  },
  {
   "cell_type": "code",
   "execution_count": 2,
   "metadata": {},
   "outputs": [
    {
     "data": {
      "text/html": [
       "<div>\n",
       "<style>\n",
       "    .dataframe thead tr:only-child th {\n",
       "        text-align: right;\n",
       "    }\n",
       "\n",
       "    .dataframe thead th {\n",
       "        text-align: left;\n",
       "    }\n",
       "\n",
       "    .dataframe tbody tr th {\n",
       "        vertical-align: top;\n",
       "    }\n",
       "</style>\n",
       "<table border=\"1\" class=\"dataframe\">\n",
       "  <thead>\n",
       "    <tr style=\"text-align: right;\">\n",
       "      <th></th>\n",
       "      <th>uID</th>\n",
       "      <th>Accidents_Total</th>\n",
       "      <th>FAF4_ID</th>\n",
       "      <th>STATE</th>\n",
       "      <th>URBAN_CODE</th>\n",
       "      <th>FAFZONE</th>\n",
       "      <th>SIGN1</th>\n",
       "      <th>THRULANES</th>\n",
       "      <th>SPD_LIMIT</th>\n",
       "      <th>TERRAIN</th>\n",
       "      <th>MEDIAN</th>\n",
       "      <th>ACCESS</th>\n",
       "      <th>CurveIndex</th>\n",
       "      <th>Traffic_Volume</th>\n",
       "      <th>Accidents_Per_100k</th>\n",
       "      <th>Truck_Volume</th>\n",
       "      <th>Truck_Percentage</th>\n",
       "    </tr>\n",
       "  </thead>\n",
       "  <tbody>\n",
       "    <tr>\n",
       "      <th>0</th>\n",
       "      <td>I296</td>\n",
       "      <td>0</td>\n",
       "      <td>510699</td>\n",
       "      <td>MI</td>\n",
       "      <td>34300.0</td>\n",
       "      <td>262</td>\n",
       "      <td>I296</td>\n",
       "      <td>8</td>\n",
       "      <td>70</td>\n",
       "      <td>1</td>\n",
       "      <td>2</td>\n",
       "      <td>1</td>\n",
       "      <td>0.051600</td>\n",
       "      <td>91500.0</td>\n",
       "      <td>0.000000</td>\n",
       "      <td>4861.0</td>\n",
       "      <td>0.053126</td>\n",
       "    </tr>\n",
       "    <tr>\n",
       "      <th>1</th>\n",
       "      <td>I296</td>\n",
       "      <td>0</td>\n",
       "      <td>510700</td>\n",
       "      <td>MI</td>\n",
       "      <td>34300.0</td>\n",
       "      <td>262</td>\n",
       "      <td>I296</td>\n",
       "      <td>6</td>\n",
       "      <td>70</td>\n",
       "      <td>1</td>\n",
       "      <td>7</td>\n",
       "      <td>1</td>\n",
       "      <td>0.035131</td>\n",
       "      <td>98400.0</td>\n",
       "      <td>0.000000</td>\n",
       "      <td>4861.0</td>\n",
       "      <td>0.049400</td>\n",
       "    </tr>\n",
       "    <tr>\n",
       "      <th>2</th>\n",
       "      <td>I296</td>\n",
       "      <td>2</td>\n",
       "      <td>508498</td>\n",
       "      <td>MI</td>\n",
       "      <td>34300.0</td>\n",
       "      <td>262</td>\n",
       "      <td>I296</td>\n",
       "      <td>6</td>\n",
       "      <td>70</td>\n",
       "      <td>1</td>\n",
       "      <td>7</td>\n",
       "      <td>1</td>\n",
       "      <td>0.000807</td>\n",
       "      <td>110100.0</td>\n",
       "      <td>0.181653</td>\n",
       "      <td>4861.0</td>\n",
       "      <td>0.044151</td>\n",
       "    </tr>\n",
       "    <tr>\n",
       "      <th>3</th>\n",
       "      <td>I296</td>\n",
       "      <td>0</td>\n",
       "      <td>509699</td>\n",
       "      <td>MI</td>\n",
       "      <td>34300.0</td>\n",
       "      <td>262</td>\n",
       "      <td>I296</td>\n",
       "      <td>6</td>\n",
       "      <td>70</td>\n",
       "      <td>1</td>\n",
       "      <td>7</td>\n",
       "      <td>1</td>\n",
       "      <td>0.001250</td>\n",
       "      <td>110100.0</td>\n",
       "      <td>0.000000</td>\n",
       "      <td>4861.0</td>\n",
       "      <td>0.044151</td>\n",
       "    </tr>\n",
       "    <tr>\n",
       "      <th>4</th>\n",
       "      <td>I296</td>\n",
       "      <td>0</td>\n",
       "      <td>509674</td>\n",
       "      <td>MI</td>\n",
       "      <td>34300.0</td>\n",
       "      <td>262</td>\n",
       "      <td>I296</td>\n",
       "      <td>6</td>\n",
       "      <td>70</td>\n",
       "      <td>1</td>\n",
       "      <td>7</td>\n",
       "      <td>1</td>\n",
       "      <td>0.000778</td>\n",
       "      <td>106500.0</td>\n",
       "      <td>0.000000</td>\n",
       "      <td>6387.0</td>\n",
       "      <td>0.059972</td>\n",
       "    </tr>\n",
       "    <tr>\n",
       "      <th>5</th>\n",
       "      <td>I296</td>\n",
       "      <td>0</td>\n",
       "      <td>509674</td>\n",
       "      <td>MI</td>\n",
       "      <td>34300.0</td>\n",
       "      <td>262</td>\n",
       "      <td>I296</td>\n",
       "      <td>6</td>\n",
       "      <td>70</td>\n",
       "      <td>1</td>\n",
       "      <td>7</td>\n",
       "      <td>1</td>\n",
       "      <td>0.001335</td>\n",
       "      <td>106500.0</td>\n",
       "      <td>0.000000</td>\n",
       "      <td>6387.0</td>\n",
       "      <td>0.059972</td>\n",
       "    </tr>\n",
       "    <tr>\n",
       "      <th>6</th>\n",
       "      <td>I255</td>\n",
       "      <td>0</td>\n",
       "      <td>325817</td>\n",
       "      <td>MO</td>\n",
       "      <td>77770.0</td>\n",
       "      <td>292</td>\n",
       "      <td>I255</td>\n",
       "      <td>8</td>\n",
       "      <td>60</td>\n",
       "      <td>2</td>\n",
       "      <td>7</td>\n",
       "      <td>1</td>\n",
       "      <td>0.005598</td>\n",
       "      <td>113442.0</td>\n",
       "      <td>0.000000</td>\n",
       "      <td>13284.0</td>\n",
       "      <td>0.117099</td>\n",
       "    </tr>\n",
       "    <tr>\n",
       "      <th>7</th>\n",
       "      <td>I255</td>\n",
       "      <td>2</td>\n",
       "      <td>325817</td>\n",
       "      <td>MO</td>\n",
       "      <td>77770.0</td>\n",
       "      <td>292</td>\n",
       "      <td>I255</td>\n",
       "      <td>8</td>\n",
       "      <td>60</td>\n",
       "      <td>2</td>\n",
       "      <td>7</td>\n",
       "      <td>1</td>\n",
       "      <td>0.003734</td>\n",
       "      <td>113442.0</td>\n",
       "      <td>0.176302</td>\n",
       "      <td>13284.0</td>\n",
       "      <td>0.117099</td>\n",
       "    </tr>\n",
       "    <tr>\n",
       "      <th>8</th>\n",
       "      <td>I255</td>\n",
       "      <td>0</td>\n",
       "      <td>325855</td>\n",
       "      <td>MO</td>\n",
       "      <td>77770.0</td>\n",
       "      <td>292</td>\n",
       "      <td>I255</td>\n",
       "      <td>6</td>\n",
       "      <td>60</td>\n",
       "      <td>2</td>\n",
       "      <td>7</td>\n",
       "      <td>1</td>\n",
       "      <td>0.003418</td>\n",
       "      <td>113442.0</td>\n",
       "      <td>0.000000</td>\n",
       "      <td>13284.0</td>\n",
       "      <td>0.117099</td>\n",
       "    </tr>\n",
       "    <tr>\n",
       "      <th>9</th>\n",
       "      <td>I255</td>\n",
       "      <td>0</td>\n",
       "      <td>325854</td>\n",
       "      <td>MO</td>\n",
       "      <td>77770.0</td>\n",
       "      <td>292</td>\n",
       "      <td>I255</td>\n",
       "      <td>6</td>\n",
       "      <td>60</td>\n",
       "      <td>2</td>\n",
       "      <td>1</td>\n",
       "      <td>1</td>\n",
       "      <td>0.000294</td>\n",
       "      <td>52006.0</td>\n",
       "      <td>0.000000</td>\n",
       "      <td>5066.0</td>\n",
       "      <td>0.097412</td>\n",
       "    </tr>\n",
       "  </tbody>\n",
       "</table>\n",
       "</div>"
      ],
      "text/plain": [
       "    uID  Accidents_Total  FAF4_ID STATE  URBAN_CODE  FAFZONE SIGN1  THRULANES  \\\n",
       "0  I296                0   510699    MI     34300.0      262  I296          8   \n",
       "1  I296                0   510700    MI     34300.0      262  I296          6   \n",
       "2  I296                2   508498    MI     34300.0      262  I296          6   \n",
       "3  I296                0   509699    MI     34300.0      262  I296          6   \n",
       "4  I296                0   509674    MI     34300.0      262  I296          6   \n",
       "5  I296                0   509674    MI     34300.0      262  I296          6   \n",
       "6  I255                0   325817    MO     77770.0      292  I255          8   \n",
       "7  I255                2   325817    MO     77770.0      292  I255          8   \n",
       "8  I255                0   325855    MO     77770.0      292  I255          6   \n",
       "9  I255                0   325854    MO     77770.0      292  I255          6   \n",
       "\n",
       "   SPD_LIMIT  TERRAIN  MEDIAN  ACCESS  CurveIndex  Traffic_Volume  \\\n",
       "0         70        1       2       1    0.051600         91500.0   \n",
       "1         70        1       7       1    0.035131         98400.0   \n",
       "2         70        1       7       1    0.000807        110100.0   \n",
       "3         70        1       7       1    0.001250        110100.0   \n",
       "4         70        1       7       1    0.000778        106500.0   \n",
       "5         70        1       7       1    0.001335        106500.0   \n",
       "6         60        2       7       1    0.005598        113442.0   \n",
       "7         60        2       7       1    0.003734        113442.0   \n",
       "8         60        2       7       1    0.003418        113442.0   \n",
       "9         60        2       1       1    0.000294         52006.0   \n",
       "\n",
       "   Accidents_Per_100k  Truck_Volume  Truck_Percentage  \n",
       "0            0.000000        4861.0          0.053126  \n",
       "1            0.000000        4861.0          0.049400  \n",
       "2            0.181653        4861.0          0.044151  \n",
       "3            0.000000        4861.0          0.044151  \n",
       "4            0.000000        6387.0          0.059972  \n",
       "5            0.000000        6387.0          0.059972  \n",
       "6            0.000000       13284.0          0.117099  \n",
       "7            0.176302       13284.0          0.117099  \n",
       "8            0.000000       13284.0          0.117099  \n",
       "9            0.000000        5066.0          0.097412  "
      ]
     },
     "execution_count": 2,
     "metadata": {},
     "output_type": "execute_result"
    }
   ],
   "source": [
    "df = pd.read_csv('CapstoneII_Data_wrangled.csv')\n",
    "df.head(10)"
   ]
  },
  {
   "cell_type": "markdown",
   "metadata": {},
   "source": [
    "### Target Variable: Number of Car Crashes\n",
    "\n",
    "Looking at our the number of accidents on different road segments, we can see that it is extremely sparse. The median value is 0, and the mean is is only .12. We can see this when attempting to plot a histogram, as the values for 0 overwhelm further values."
   ]
  },
  {
   "cell_type": "code",
   "execution_count": 3,
   "metadata": {},
   "outputs": [
    {
     "name": "stdout",
     "output_type": "stream",
     "text": [
      "count    70925.000000\n",
      "mean         0.129489\n",
      "std          0.665343\n",
      "min          0.000000\n",
      "25%          0.000000\n",
      "50%          0.000000\n",
      "75%          0.000000\n",
      "max         41.000000\n",
      "Name: Accidents_Total, dtype: float64\n"
     ]
    },
    {
     "data": {
      "image/png": "[encoded data removed]",
      "text/plain": [
       "<matplotlib.figure.Figure at 0x111ee0198>"
      ]
     },
     "metadata": {},
     "output_type": "display_data"
    }
   ],
   "source": [
    "print(df.Accidents_Total.describe())\n",
    "\n",
    "plt.hist(df.Accidents_Total)\n",
    "plt.title('Distribution of Car Crashes on 1km Segments of US Highway')\n",
    "plt.show()"
   ]
  },
  {
   "cell_type": "markdown",
   "metadata": {},
   "source": [
    "Filtering out segments with 0 car crashes show that low values still dominate."
   ]
  },
  {
   "cell_type": "code",
   "execution_count": 4,
   "metadata": {},
   "outputs": [
    {
     "name": "stdout",
     "output_type": "stream",
     "text": [
      "2     1786\n",
      "3      939\n",
      "4      303\n",
      "5      126\n",
      "6       61\n",
      "7       28\n",
      "8       15\n",
      "9        6\n",
      "10       4\n",
      "11       3\n",
      "16       2\n",
      "15       1\n",
      "13       1\n",
      "17       1\n",
      "14       1\n",
      "12       1\n",
      "41       1\n",
      "Name: Accidents_Total, dtype: int64\n"
     ]
    },
    {
     "data": {
      "image/png": "[encoded data removed]",
      "text/plain": [
       "<matplotlib.figure.Figure at 0x114183828>"
      ]
     },
     "metadata": {},
     "output_type": "display_data"
    }
   ],
   "source": [
    "filtered = df[df.Accidents_Total > 1].Accidents_Total\n",
    "\n",
    "print(filtered.value_counts())\n",
    "\n",
    "plt.hist(filtered)\n",
    "plt.title('Distribution of Car Crashes on 1km Segments of US Highway (Excluding Segments with 0 Crashes)')\n",
    "plt.show()"
   ]
  },
  {
   "cell_type": "markdown",
   "metadata": {},
   "source": [
    "However, the number of accidents on a given road segment is meaningless without a normalizing variable that accounts for the volume of traffic flow through it. That is why the target variable here is the number of accidents divided by units of 100k cars that pass through, giving the series Accidents per 100k. The distribution of that variable looks like this:"
   ]
  },
  {
   "cell_type": "code",
   "execution_count": 5,
   "metadata": {},
   "outputs": [
    {
     "data": {
      "text/plain": [
       "count    70923.000000\n",
       "mean         0.037529\n",
       "std          0.333960\n",
       "min          0.000000\n",
       "25%          0.000000\n",
       "50%          0.000000\n",
       "75%          0.000000\n",
       "max         30.549898\n",
       "Name: Accidents_Per_100k, dtype: float64"
      ]
     },
     "execution_count": 5,
     "metadata": {},
     "output_type": "execute_result"
    }
   ],
   "source": [
    "df.Accidents_Per_100k.describe()"
   ]
  },
  {
   "cell_type": "markdown",
   "metadata": {},
   "source": [
    "Similar to the non-normalized variable, the distribution skews left and extremely hard towards 0."
   ]
  },
  {
   "cell_type": "code",
   "execution_count": 6,
   "metadata": {},
   "outputs": [
    {
     "data": {
      "image/png": "[encoded data removed]",
      "text/plain": [
       "<matplotlib.figure.Figure at 0x10df3b6d8>"
      ]
     },
     "metadata": {},
     "output_type": "display_data"
    }
   ],
   "source": [
    "accidents_per_100k = df.Accidents_Per_100k\n",
    "accidents_per_100k.dropna(inplace=True)\n",
    "filtered = accidents_per_100k[accidents_per_100k != 0]\n",
    "\n",
    "\n",
    "plt.hist(filtered)\n",
    "plt.xlim(0,5)\n",
    "plt.title('Distribution of Car Crashes on 1km Segments of US Highway (Excluding Segments with 0 Crashes)')\n",
    "plt.show()"
   ]
  },
  {
   "cell_type": "markdown",
   "metadata": {},
   "source": [
    "### Independent Variables\n",
    "\n",
    "These are the independent variables available in the dataset.\n",
    "\n",
    "* FAF4_ID: Unique identifier not for the individual segment, but for the larger segment the 1km segment belongs to.\n",
    "* STATE: The state the segment is located in.\n",
    "* URBAN_CODE: A unique code for different urban regions.\n",
    "* FAFZONE: The regional zone for the Freight Analysis Framework model.\n",
    "* SIGN1: The unique identifier of the highway route.\n",
    "* THRULANES: The number of through lanes on the highway.\n",
    "* SPD_LIMIT: The speed limit on the highway.\n",
    "* TERRAIN: The type of terrain. 1 is level, 2 is rolling and 3 is mountainous. Exact code descriptions [here]()\n",
    "* MEDIAN: The type of median. Ranges from 1-7, with 1 being no barrier and 7 being a rigid barrier. More information can be found [here]()\n",
    "* ACCESS: Denotes how the highway is accessed from other roadways. A value of 1 indicates at-grade crossings, 2 has stoplights and intersections, and 3 is full access including provate driveways.\n",
    "* CurveIndex: A measurement of the curviness of a road segment. A straight segment has a value of 0, while a perfect circle would have a value of 1.\n",
    "\n",
    "Let's run a correlation check on the factors to the target variable."
   ]
  },
  {
   "cell_type": "code",
   "execution_count": 7,
   "metadata": {},
   "outputs": [
    {
     "data": {
      "text/plain": [
       "Accidents_Total       0.527471\n",
       "FAF4_ID              -0.019672\n",
       "URBAN_CODE            0.007797\n",
       "FAFZONE               0.009237\n",
       "THRULANES            -0.016324\n",
       "SPD_LIMIT             0.017230\n",
       "TERRAIN              -0.005498\n",
       "MEDIAN               -0.009286\n",
       "ACCESS               -0.001367\n",
       "CurveIndex            0.001533\n",
       "Traffic_Volume       -0.022252\n",
       "Accidents_Per_100k    1.000000\n",
       "Truck_Volume         -0.014511\n",
       "Truck_Percentage      0.018535\n",
       "Name: Accidents_Per_100k, dtype: float64"
      ]
     },
     "execution_count": 7,
     "metadata": {},
     "output_type": "execute_result"
    }
   ],
   "source": [
    "df.corr()['Accidents_Per_100k']"
   ]
  },
  {
   "cell_type": "markdown",
   "metadata": {
    "collapsed": true
   },
   "source": [
    "There is nothing here that shows strong correlation, which is troubling. No factor, except for the total number of accidents, breaks >.2 correlation. This presents a serious problem for the data and the goal of this capstone.\n",
    "To refresh, the question was: Can we use the characteristics of roads to predict for the frequency of accidents along them? Based on this initial data exploration, the answer seems to be: **No**.\n",
    "\n",
    "The main issue is that the data is so sparse. To illustrate this, I've quickly trained a linear regressor in sci-kit learn to predict for accident rates, and found that it did virtually no better at predicting accident rates than a dummy array with every value set to zero:"
   ]
  },
  {
   "cell_type": "code",
   "execution_count": 10,
   "metadata": {},
   "outputs": [
    {
     "name": "stdout",
     "output_type": "stream",
     "text": [
      "RMSE real:  0.385513833082\n",
      "RMSE dummy:  0.387704173039\n"
     ]
    }
   ],
   "source": [
    "# import relevant scikit-learn functions\n",
    "from sklearn.metrics import mean_squared_error\n",
    "from sklearn.model_selection import train_test_split\n",
    "from sklearn.linear_model import LinearRegression\n",
    "from sklearn.preprocessing import Imputer\n",
    "\n",
    "# create an imputer object for NaN values\n",
    "imp = Imputer(missing_values='NaN', strategy='median', axis=1)\n",
    "\n",
    "# drop unnecessary roads\n",
    "df_crashes = df.drop(['uID', 'Accidents_Total', 'FAF4_ID', 'STATE', 'URBAN_CODE', 'FAFZONE',\n",
    "                     'SIGN1','Traffic_Volume', 'CurveIndex','Truck_Volume'], axis=1)\n",
    "df_crashes = df_crashes.dropna(how='any')\n",
    "\n",
    "df_features_wNaN = df_crashes.drop('Accidents_Per_100k',axis = 1)\n",
    "df_features = pd.DataFrame(imp.fit_transform(df_features_wNaN))\n",
    "df_features.columns = df_features_wNaN.columns\n",
    "X_train, X_holdout, y_train, y_holdout = train_test_split(df_features, df.Accidents_Per_100k, test_size = .2, random_state=24)\n",
    "\n",
    "lr = LinearRegression().fit(X_train, y_train)\n",
    "lr_prediction = lr.predict(X_holdout)\n",
    "\n",
    "holdout_rmse = np.sqrt(mean_squared_error(lr_prediction, y_holdout))\n",
    "\n",
    "print('RMSE real: ', holdout_rmse)\n",
    "print('RMSE dummy: ', np.sqrt(mean_squared_error(np.zeros((14185,)), y_holdout)))"
   ]
  },
  {
   "cell_type": "markdown",
   "metadata": {
    "collapsed": true
   },
   "source": [
    "That is to say, predicting a 0/10000 crash frequency was virtually as predictive as a linear regression model. This is because the factors of the road themselves do not provide enough predictive power, as shown by the correlation numbers.\n",
    "\n",
    "## What now?\n",
    "\n",
    "Unfortunately, when asking the \"using x, can we predict y?\" question in data science, you are not always going to get \"Yes\" as an answer. In this case, the answer seems to be no. The rate of accidents seems not to depend so much on the road characteristics, but rather different underlying factors about the accidents themselves. Understanding that, I am going to pivot my efforts towards predicting factors *about* the accidents rather than the frequency of the accidents themselves. In this case, I want to answer the question:\n",
    "\n",
    "I will continue with this work in a new notebook [here]()"
   ]
  },
  {
   "cell_type": "code",
   "execution_count": null,
   "metadata": {
    "collapsed": true
   },
   "outputs": [],
   "source": []
  }
 ],
 "metadata": {
  "kernelspec": {
   "display_name": "Python 3",
   "language": "python",
   "name": "python3"
  },
  "language_info": {
   "codemirror_mode": {
    "name": "ipython",
    "version": 3
   },
   "file_extension": ".py",
   "mimetype": "text/x-python",
   "name": "python",
   "nbconvert_exporter": "python",
   "pygments_lexer": "ipython3",
   "version": "3.6.3"
  }
 },
 "nbformat": 4,
 "nbformat_minor": 2
}
